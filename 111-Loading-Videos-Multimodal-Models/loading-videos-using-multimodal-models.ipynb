{
 "cells": [
  {
   "cell_type": "code",
   "execution_count": null,
   "metadata": {},
   "outputs": [],
   "source": [
    "!pip install moviepy\n",
    "!pip install pandas\n",
    "!pip install openai"
   ]
  },
  {
   "cell_type": "code",
   "execution_count": 1,
   "metadata": {},
   "outputs": [
    {
     "ename": "ModuleNotFoundError",
     "evalue": "No module named 'moviepy'",
     "output_type": "error",
     "traceback": [
      "\u001b[1;31m---------------------------------------------------------------------------\u001b[0m",
      "\u001b[1;31mModuleNotFoundError\u001b[0m                       Traceback (most recent call last)",
      "Cell \u001b[1;32mIn[1], line 2\u001b[0m\n\u001b[0;32m      1\u001b[0m \u001b[38;5;28;01mimport\u001b[39;00m \u001b[38;5;21;01mos\u001b[39;00m\n\u001b[1;32m----> 2\u001b[0m \u001b[38;5;28;01mfrom\u001b[39;00m \u001b[38;5;21;01mmoviepy\u001b[39;00m\u001b[38;5;21;01m.\u001b[39;00m\u001b[38;5;21;01meditor\u001b[39;00m \u001b[38;5;28;01mimport\u001b[39;00m VideoFileClip\n\u001b[0;32m      3\u001b[0m \u001b[38;5;28;01mimport\u001b[39;00m \u001b[38;5;21;01mpandas\u001b[39;00m \u001b[38;5;28;01mas\u001b[39;00m \u001b[38;5;21;01mpd\u001b[39;00m\n\u001b[0;32m      5\u001b[0m \u001b[38;5;66;03m# define the relative path to the video file\u001b[39;00m\n",
      "\u001b[1;31mModuleNotFoundError\u001b[0m: No module named 'moviepy'"
     ]
    }
   ],
   "source": [
    "import os\n",
    "from moviepy.editor import VideoFileClip\n",
    "import pandas as pd\n",
    "\n",
    "# define the relative path to the video file\n",
    "video_file_path = os.path.join(\n",
    "    cfd, \"../datasets/videos/learn-data-science-tutorial.mp4\"\n",
    ")\n",
    "image_output_folder = os.path.join(cfd, \"../datasets/videos/video_extracted_images\")\n",
    "audio_output_folder = os.path.join(cfd, \"../datasets/videos/video_extracted_audio\")\n",
    "\n",
    "# Load the video file\n",
    "clip = VideoFileClip(video_file_path)\n",
    "\n",
    "# Define the time range and time step to extract frames\n",
    "start_time_video = 0  # time in seconds\n",
    "end_time_video = clip.duration  # time in seconds\n",
    "time_step = 10  # time in seconds\n",
    "\n",
    "# create a a data frame with all timestamps where we want to extract a frame\n",
    "timestamps = list(range(start_time_video, int(end_time_video) - time_step, time_step))\n",
    "\n",
    "\n",
    "def video_to_images(clip, timestamp, image_output_folder):\n",
    "    \"\"\"\n",
    "    Convert a video to a sequence of images and save them to the output folder.\n",
    "\n",
    "    Parameters:\n",
    "        clip (VideoFileClip): The video clip to extract the frame from.\n",
    "        timestamp (int): The timestamp to extract the frame from.\n",
    "        image_output_folder (str): The folder to save the image to.\n",
    "    \"\"\"\n",
    "    # save the frame as an image\n",
    "    frame_image_path = os.path.join(image_output_folder, f\"frame_{timestamp}.png\")\n",
    "    clip.save_frame(frame_image_path, t=timestamp)\n",
    "\n",
    "\n",
    "# for each timestamp extract a frame\n",
    "for timestamp in timestamps:\n",
    "    video_to_images(\n",
    "        clip=clip,\n",
    "        timestamp=timestamp,\n",
    "        image_output_folder=image_output_folder,\n",
    "    )"
   ]
  },
  {
   "cell_type": "code",
   "execution_count": 2,
   "metadata": {},
   "outputs": [
    {
     "ename": "NameError",
     "evalue": "name 'timestamps' is not defined",
     "output_type": "error",
     "traceback": [
      "\u001b[1;31m---------------------------------------------------------------------------\u001b[0m",
      "\u001b[1;31mNameError\u001b[0m                                 Traceback (most recent call last)",
      "Cell \u001b[1;32mIn[2], line 22\u001b[0m\n\u001b[0;32m     18\u001b[0m     audio_clip\u001b[38;5;241m.\u001b[39mwrite_audiofile(output_audio_path)\n\u001b[0;32m     21\u001b[0m \u001b[38;5;66;03m# for each timestamp extract the audio\u001b[39;00m\n\u001b[1;32m---> 22\u001b[0m \u001b[38;5;28;01mfor\u001b[39;00m timestamp \u001b[38;5;129;01min\u001b[39;00m \u001b[43mtimestamps\u001b[49m:\n\u001b[0;32m     23\u001b[0m     \u001b[38;5;66;03m# extract the audio from the video\u001b[39;00m\n\u001b[0;32m     24\u001b[0m     video_to_audio(\n\u001b[0;32m     25\u001b[0m         clip\u001b[38;5;241m=\u001b[39mclip,\n\u001b[0;32m     26\u001b[0m         timestamp\u001b[38;5;241m=\u001b[39mtimestamp,\n\u001b[0;32m     27\u001b[0m         time_step\u001b[38;5;241m=\u001b[39mtime_step,\n\u001b[0;32m     28\u001b[0m         output_audio_path\u001b[38;5;241m=\u001b[39maudio_output_folder,\n\u001b[0;32m     29\u001b[0m     )\n",
      "\u001b[1;31mNameError\u001b[0m: name 'timestamps' is not defined"
     ]
    }
   ],
   "source": [
    "def video_to_audio(clip, timestamp, time_step, output_audio_path):\n",
    "    \"\"\"\n",
    "    Extract audio from a video and save it to the output path.\n",
    "\n",
    "    Parameters:\n",
    "        clip (VideoFileClip): The video clip to extract the audio from\n",
    "        timestamp (int): The timestamp to extract the audio from\n",
    "        time_step (int): The time step to extract the audio\n",
    "        output_audio_path (str): The path to save the audio to\n",
    "\n",
    "    \"\"\"\n",
    "    # Extract the audio from the video between two timestamps\n",
    "    audio_clip = clip.subclip(timestamp, timestamp + time_step).audio\n",
    "\n",
    "    output_audio_path = os.path.join(audio_output_folder, f\"audio_{timestamp}.mp3\")\n",
    "\n",
    "    # Write the audio to a file\n",
    "    audio_clip.write_audiofile(output_audio_path)\n",
    "\n",
    "\n",
    "# for each timestamp extract the audio\n",
    "for timestamp in timestamps:\n",
    "    # extract the audio from the video\n",
    "    video_to_audio(\n",
    "        clip=clip,\n",
    "        timestamp=timestamp,\n",
    "        time_step=time_step,\n",
    "        output_audio_path=audio_output_folder,\n",
    "    )"
   ]
  },
  {
   "cell_type": "code",
   "execution_count": 3,
   "metadata": {},
   "outputs": [
    {
     "ename": "NameError",
     "evalue": "name 'audio_output_folder' is not defined",
     "output_type": "error",
     "traceback": [
      "\u001b[1;31m---------------------------------------------------------------------------\u001b[0m",
      "\u001b[1;31mNameError\u001b[0m                                 Traceback (most recent call last)",
      "Cell \u001b[1;32mIn[3], line 35\u001b[0m\n\u001b[0;32m     31\u001b[0m     \u001b[38;5;28;01mreturn\u001b[39;00m\n\u001b[0;32m     34\u001b[0m \u001b[38;5;66;03m# List all files in folder audio_output_folder\u001b[39;00m\n\u001b[1;32m---> 35\u001b[0m audio_files \u001b[38;5;241m=\u001b[39m os\u001b[38;5;241m.\u001b[39mlistdir(\u001b[43maudio_output_folder\u001b[49m)\n\u001b[0;32m     37\u001b[0m \u001b[38;5;28;01mfor\u001b[39;00m audio_file \u001b[38;5;129;01min\u001b[39;00m audio_files:\n\u001b[0;32m     38\u001b[0m     absolut_path_audio_file \u001b[38;5;241m=\u001b[39m os\u001b[38;5;241m.\u001b[39mpath\u001b[38;5;241m.\u001b[39mjoin(audio_output_folder, audio_file)\n",
      "\u001b[1;31mNameError\u001b[0m: name 'audio_output_folder' is not defined"
     ]
    }
   ],
   "source": [
    "from openai import OpenAI\n",
    "\n",
    "\n",
    "def audio_to_text(audio_path):\n",
    "    \"\"\"\n",
    "    Convert audio to text using OpenAI's Whisper model.\n",
    "\n",
    "    Parameters:\n",
    "    audio_path (str): The path to the audio file.\n",
    "\n",
    "    Returns:\n",
    "    str: The text recognized from the audio.\n",
    "\n",
    "    \"\"\"\n",
    "    # Initialize the OpenAI client with your API key\n",
    "\n",
    "    client = OpenAI(api_key=os.getenv(\"OPENAI_API_KEY\"))\n",
    "\n",
    "    # Open and read the audio file\n",
    "    with open(audio_path, \"rb\") as audio_file:\n",
    "        # Transcribe\n",
    "        transcription = client.audio.transcriptions.create(\n",
    "            model=\"whisper-1\", file=audio_file\n",
    "        )\n",
    "\n",
    "    # save the transcription to a text file\n",
    "    text_file_path = audio_path.replace(\".mp3\", \".txt\")\n",
    "    with open(text_file_path, \"w\") as text_file:\n",
    "        text_file.write(transcription.text)\n",
    "\n",
    "    return\n",
    "\n",
    "\n",
    "# List all files in folder audio_output_folder\n",
    "audio_files = os.listdir(audio_output_folder)\n",
    "\n",
    "for audio_file in audio_files:\n",
    "    absolut_path_audio_file = os.path.join(audio_output_folder, audio_file)\n",
    "    # Use the function audio_to_text to convert the audio to text\n",
    "    audio_to_text(audio_path=absolut_path_audio_file)"
   ]
  }
 ],
 "metadata": {
  "kernelspec": {
   "display_name": ".venv",
   "language": "python",
   "name": "python3"
  },
  "language_info": {
   "codemirror_mode": {
    "name": "ipython",
    "version": 3
   },
   "file_extension": ".py",
   "mimetype": "text/x-python",
   "name": "python",
   "nbconvert_exporter": "python",
   "pygments_lexer": "ipython3",
   "version": "3.10.11"
  }
 },
 "nbformat": 4,
 "nbformat_minor": 2
}
